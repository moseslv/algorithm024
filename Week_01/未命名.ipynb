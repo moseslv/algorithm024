{
 "cells": [
  {
   "cell_type": "markdown",
   "metadata": {},
   "source": [
    "# Introduction\n",
    "State notebook purpose here"
   ]
  },
  {
   "cell_type": "markdown",
   "metadata": {},
   "source": [
    "### Imports\n",
    "Import libraries and write settings here."
   ]
  },
  {
   "cell_type": "code",
   "execution_count": 2,
   "metadata": {
    "ExecuteTime": {
     "end_time": "2021-02-01T02:28:26.151447Z",
     "start_time": "2021-02-01T02:28:26.113332Z"
    }
   },
   "outputs": [],
   "source": [
    "# # Data manipulation\n",
    "import pandas as pd\n",
    "import pandas_profiling as pp\n",
    "import numpy as np\n",
    "\n",
    "# Options for pandas\n",
    "pd.options.display.max_columns = 50\n",
    "pd.options.display.max_rows = 30\n",
    "pd.set_option('display.float_format', lambda x: '%.3f' % x)\n",
    "\n",
    "# Display all cell outputs\n",
    "from IPython.core.interactiveshell import InteractiveShell\n",
    "InteractiveShell.ast_node_interactivity = 'all'\n",
    "\n",
    "from IPython import get_ipython\n",
    "ipython = get_ipython()\n",
    "\n",
    "# autoreload extension\n",
    "if 'autoreload' not in ipython.extension_manager.loaded:\n",
    "    %load_ext autoreload\n",
    "\n",
    "%autoreload 2\n",
    "\n",
    "# # Visualizations\n",
    "# import plotly.plotly as py\n",
    "# import plotly.graph_objs as go\n",
    "# from plotly.offline import iplot, init_notebook_mode\n",
    "# init_notebook_mode(connected=True)\n",
    "# import matplotlib.pyplot as plt\n",
    "\n",
    "# import os\n",
    "# import cufflinks as cf\n",
    "# cf.go_offline(connected=True)\n",
    "# cf.set_config_file(theme='white')"
   ]
  },
  {
   "cell_type": "markdown",
   "metadata": {},
   "source": [
    "# Analysis/Modeling\n",
    "Do work here"
   ]
  },
  {
   "cell_type": "code",
   "execution_count": 10,
   "metadata": {
    "ExecuteTime": {
     "end_time": "2021-02-01T02:40:27.407429Z",
     "start_time": "2021-02-01T02:40:27.355102Z"
    }
   },
   "outputs": [
    {
     "name": "stdout",
     "output_type": "stream",
     "text": [
      "[4, 3, 2, 1, 5, 6, 7]\n"
     ]
    }
   ],
   "source": [
    "# class Solution:\n",
    "#     def rotate(self, nums: List[int], k: int) -> None:\n",
    "#         \"\"\"\n",
    "#         Do not return anything, modify nums in-place instead.\n",
    "#         \"\"\"\n",
    "#         # 暴力解法遍历 0(N)\n",
    "#         templist = nums[k+1:]\n",
    "#         prevtemp = nums[:k+1]\n",
    "#         nums[:k+1], nums[k:]= templist,prevtemp\n",
    "\n",
    "class Solution:\n",
    "    def rotate(self, nums, k: int) -> None:\n",
    "        \"\"\"\n",
    "        Do not return anything, modify nums in-place instead.\n",
    "        \"\"\"\n",
    "        if len(nums) < k:\n",
    "            k = k%(len(nums))\n",
    "        for i in range(len(nums) - k):\n",
    "            tail = nums.pop(0)\n",
    "            nums.append(tail)\n",
    "        return nums\n",
    "\n",
    "def reverse(nums,l,r):\n",
    "    tmp=0\n",
    "    while l<=r:\n",
    "        tmp=nums[r]\n",
    "        nums[r]=nums[l]\n",
    "        nums[l]=tmp\n",
    "        l+=1\n",
    "        r-=1\n",
    "    print(nums)\n",
    "\n",
    "test1 = [1,2,3,4,5,6,7]\n",
    "\n",
    "reverse(test1,0,7-3-1)\n"
   ]
  },
  {
   "cell_type": "code",
   "execution_count": 11,
   "metadata": {
    "ExecuteTime": {
     "end_time": "2021-02-01T02:50:24.304231Z",
     "start_time": "2021-02-01T02:50:24.226508Z"
    }
   },
   "outputs": [
    {
     "name": "stdout",
     "output_type": "stream",
     "text": [
      "[4, 3, 2, 1, 7, 6, 5]\n"
     ]
    }
   ],
   "source": [
    "reverse(test1,7-3,7-1)"
   ]
  },
  {
   "cell_type": "code",
   "execution_count": 12,
   "metadata": {
    "ExecuteTime": {
     "end_time": "2021-02-01T02:50:38.612412Z",
     "start_time": "2021-02-01T02:50:38.580346Z"
    }
   },
   "outputs": [
    {
     "name": "stdout",
     "output_type": "stream",
     "text": [
      "[5, 6, 7, 1, 2, 3, 4]\n"
     ]
    }
   ],
   "source": [
    "reverse(test1,0,7-1)"
   ]
  },
  {
   "cell_type": "markdown",
   "metadata": {},
   "source": [
    "# Results\n",
    "Show graphs and stats here"
   ]
  },
  {
   "cell_type": "code",
   "execution_count": 31,
   "metadata": {
    "ExecuteTime": {
     "end_time": "2021-02-01T07:46:31.484134Z",
     "start_time": "2021-02-01T07:46:31.445291Z"
    }
   },
   "outputs": [
    {
     "data": {
      "text/plain": [
       "[-1, 0, 1, 1, 4, 6, 7, 9, 12, 30]"
      ]
     },
     "execution_count": 31,
     "metadata": {},
     "output_type": "execute_result"
    }
   ],
   "source": [
    "def partition(arr,low,high): \n",
    "    i = ( low-1 )         # 最小元素索引\n",
    "    pivot = arr[high]     \n",
    "  \n",
    "    for j in range(low , high): \n",
    "  \n",
    "        # 当前元素小于或等于 pivot \n",
    "        if   arr[j] <= pivot: \n",
    "          \n",
    "            i = i+1 \n",
    "            arr[i],arr[j] = arr[j],arr[i] \n",
    "#             print(\"i:\",i,\"arr:\",arr)\n",
    "    arr[i+1],arr[high] = arr[high],arr[i+1]\n",
    "#     print(\"左子序列:\",arr[:i])\n",
    "#     print(\"右子序列:\",arr[i+1:])\n",
    "    return ( i+1 ) #,arr\n",
    "\n",
    "def qsort(arr,low,high):\n",
    "    if low < high: \n",
    "        pivot = partition(arr,low,high)\n",
    "        qsort(arr,low,pivot-1)\n",
    "        qsort(arr,pivot+1,high)\n",
    "    return arr\n",
    "test1 = [1,12,0,9,30,4,1,6,-1,7]\n",
    "# partition(test1,0,)\n",
    "qsort(test1,0,9)"
   ]
  },
  {
   "cell_type": "code",
   "execution_count": 27,
   "metadata": {
    "ExecuteTime": {
     "end_time": "2021-02-01T07:43:27.478155Z",
     "start_time": "2021-02-01T07:43:27.438858Z"
    }
   },
   "outputs": [
    {
     "name": "stdout",
     "output_type": "stream",
     "text": [
      "i: 0 arr: [1, 12, 0, 9, 30, 4, 1, 6, 7]\n",
      "i: 1 arr: [1, 0, 12, 9, 30, 4, 1, 6, 7]\n",
      "i: 2 arr: [1, 0, 4, 9, 30, 12, 1, 6, 7]\n",
      "i: 3 arr: [1, 0, 4, 1, 30, 12, 9, 6, 7]\n",
      "i: 4 arr: [1, 0, 4, 1, 6, 12, 9, 30, 7]\n",
      "左子序列: [1, 0, 4, 1]\n",
      "右子序列: [12, 9, 30, 7]\n"
     ]
    },
    {
     "data": {
      "text/plain": [
       "(5, [1, 0, 4, 1, 6, 12, 9, 30, 7])"
      ]
     },
     "execution_count": 27,
     "metadata": {},
     "output_type": "execute_result"
    }
   ],
   "source": [
    "def partition(arr,low,high): \n",
    "    i = ( low-1 )         # 最小元素索引\n",
    "    pivot = arr[high]     \n",
    "  \n",
    "    for j in range(low , high): \n",
    "  \n",
    "        # 当前元素小于或等于 pivot \n",
    "        if   arr[j] <= pivot: \n",
    "          \n",
    "            i = i+1 \n",
    "            arr[i],arr[j] = arr[j],arr[i] \n",
    "            print(\"i:\",i,\"arr:\",arr)\n",
    "#     arr[i+1],arr[high] = arr[high],arr[i+1]\n",
    "    print(\"左子序列:\",arr[:i])\n",
    "    print(\"右子序列:\",arr[i+1:])\n",
    "    return ( i+1 ) ,arr\n",
    "\n",
    "test1 = [1,12,0,9,30,4,1,6,7]\n",
    "partition(test1,0,8)\n"
   ]
  },
  {
   "cell_type": "code",
   "execution_count": 52,
   "metadata": {
    "ExecuteTime": {
     "end_time": "2021-02-01T09:19:39.377715Z",
     "start_time": "2021-02-01T09:19:39.340737Z"
    }
   },
   "outputs": [
    {
     "name": "stdout",
     "output_type": "stream",
     "text": [
      "d {'abc': ['cab']}\n",
      "d {'abc': ['cab'], 'int': ['tin']}\n",
      "d {'abc': ['cab'], 'int': ['tin'], 'epw': ['pew']}\n",
      "d {'abc': ['cab'], 'int': ['tin'], 'epw': ['pew'], 'dhu': ['duh']}\n",
      "d {'abc': ['cab'], 'int': ['tin'], 'epw': ['pew'], 'dhu': ['duh'], 'amy': ['may']}\n",
      "d {'abc': ['cab'], 'int': ['tin'], 'epw': ['pew'], 'dhu': ['duh'], 'amy': ['may'], 'ill': ['ill']}\n",
      "d {'abc': ['cab'], 'int': ['tin'], 'epw': ['pew'], 'dhu': ['duh'], 'amy': ['may'], 'ill': ['ill'], 'buy': ['buy']}\n",
      "d {'abc': ['cab'], 'int': ['tin'], 'epw': ['pew'], 'dhu': ['duh'], 'amy': ['may'], 'ill': ['ill'], 'buy': ['buy'], 'abr': ['bar']}\n",
      "d {'abc': ['cab'], 'int': ['tin'], 'epw': ['pew'], 'dhu': ['duh'], 'amy': ['may'], 'ill': ['ill'], 'buy': ['buy'], 'abr': ['bar'], 'amx': ['max']}\n",
      "d {'abc': ['cab'], 'int': ['tin'], 'epw': ['pew'], 'dhu': ['duh'], 'amy': ['may'], 'ill': ['ill'], 'buy': ['buy'], 'abr': ['bar'], 'amx': ['max'], 'cdo': ['doc']}\n"
     ]
    },
    {
     "data": {
      "text/plain": [
       "[['cab'],\n",
       " ['tin'],\n",
       " ['pew'],\n",
       " ['duh'],\n",
       " ['may'],\n",
       " ['ill'],\n",
       " ['buy'],\n",
       " ['bar'],\n",
       " ['max'],\n",
       " ['doc']]"
      ]
     },
     "execution_count": 52,
     "metadata": {},
     "output_type": "execute_result"
    }
   ],
   "source": [
    "class Solution:\n",
    "    def groupAnagrams(self, strs):\n",
    "        d = {}\n",
    "        for s in strs:\n",
    "            d.setdefault( \"\".join(sorted(s)), []).append(s)\n",
    "            print(\"d\",d)\n",
    "        return list(d.values())\n",
    "\n",
    "test1 = [\"cab\",\"tin\",\"pew\",\"duh\",\"may\",\"ill\",\"buy\",\"bar\",\"max\",\"doc\"]\n",
    "s = Solution()\n",
    "s.groupAnagrams(test1)"
   ]
  },
  {
   "cell_type": "code",
   "execution_count": 63,
   "metadata": {
    "ExecuteTime": {
     "end_time": "2021-02-07T01:25:50.185501Z",
     "start_time": "2021-02-07T01:25:50.144723Z"
    }
   },
   "outputs": [
    {
     "name": "stdout",
     "output_type": "stream",
     "text": [
      "nums [0, 1, 0, 3, 12] cnt: 1\n",
      "nums [1, 1, 0, 3, 12] cnt: 1\n",
      "nums [1, 1, 0, 3, 12] cnt: 2\n",
      "nums [1, 1, 3, 3, 12] cnt: 2\n",
      "nums [1, 1, 12, 3, 12] cnt: 2\n"
     ]
    },
    {
     "data": {
      "text/plain": [
       "[1, 1, 12, 0, 0]"
      ]
     },
     "execution_count": 63,
     "metadata": {},
     "output_type": "execute_result"
    }
   ],
   "source": [
    "class Solution:\n",
    "    def moveZeroes(self, nums):\n",
    "        \"\"\"\n",
    "        Do not return anything, modify nums in-place instead.\n",
    "        \"\"\"\n",
    "        cnt0 = 0\n",
    "        i = 0\n",
    "        j = 0\n",
    "        for idx,val in enumerate(nums):\n",
    "            if val==0:\n",
    "                cnt0+=1\n",
    "                i=idx\n",
    "            else:\n",
    "                j = idx\n",
    "                if j>=cnt0:\n",
    "                    nums[i] =  nums[j]\n",
    "                    j+=1\n",
    "            print(\"nums\",nums,\"cnt:\",cnt0)\n",
    "        nums[cnt0+1:] = [0]*cnt0\n",
    "        return nums\n",
    "test1 = [0,1,0,3,12]\n",
    "s = Solution()\n",
    "s.moveZeroes(test1)"
   ]
  },
  {
   "cell_type": "markdown",
   "metadata": {},
   "source": [
    "# Conclusions and Next Steps\n",
    "Summarize findings here"
   ]
  },
  {
   "cell_type": "code",
   "execution_count": null,
   "metadata": {},
   "outputs": [],
   "source": []
  }
 ],
 "metadata": {
  "kernelspec": {
   "display_name": "Python 3",
   "language": "python",
   "name": "python3"
  },
  "language_info": {
   "codemirror_mode": {
    "name": "ipython",
    "version": 3
   },
   "file_extension": ".py",
   "mimetype": "text/x-python",
   "name": "python",
   "nbconvert_exporter": "python",
   "pygments_lexer": "ipython3",
   "version": "3.6.7"
  },
  "latex_envs": {
   "LaTeX_envs_menu_present": true,
   "autoclose": false,
   "autocomplete": true,
   "bibliofile": "biblio.bib",
   "cite_by": "apalike",
   "current_citInitial": 1,
   "eqLabelWithNumbers": true,
   "eqNumInitial": 1,
   "hotkeys": {
    "equation": "Ctrl-E",
    "itemize": "Ctrl-I"
   },
   "labels_anchors": false,
   "latex_user_defs": false,
   "report_style_numbering": false,
   "user_envs_cfg": false
  },
  "toc": {
   "base_numbering": 1,
   "nav_menu": {},
   "number_sections": true,
   "sideBar": true,
   "skip_h1_title": false,
   "title_cell": "Table of Contents",
   "title_sidebar": "Contents",
   "toc_cell": false,
   "toc_position": {},
   "toc_section_display": true,
   "toc_window_display": false
  },
  "varInspector": {
   "cols": {
    "lenName": 16,
    "lenType": 16,
    "lenVar": 40
   },
   "kernels_config": {
    "python": {
     "delete_cmd_postfix": "",
     "delete_cmd_prefix": "del ",
     "library": "var_list.py",
     "varRefreshCmd": "print(var_dic_list())"
    },
    "r": {
     "delete_cmd_postfix": ") ",
     "delete_cmd_prefix": "rm(",
     "library": "var_list.r",
     "varRefreshCmd": "cat(var_dic_list()) "
    }
   },
   "types_to_exclude": [
    "module",
    "function",
    "builtin_function_or_method",
    "instance",
    "_Feature"
   ],
   "window_display": false
  }
 },
 "nbformat": 4,
 "nbformat_minor": 2
}
